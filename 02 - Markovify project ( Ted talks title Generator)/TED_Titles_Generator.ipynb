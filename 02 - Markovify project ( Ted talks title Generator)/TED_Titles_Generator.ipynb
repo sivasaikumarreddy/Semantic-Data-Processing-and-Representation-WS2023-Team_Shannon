{
 "cells": [
  {
   "cell_type": "markdown",
   "metadata": {},
   "source": [
    "# Ted talks Title Generator "
   ]
  },
  {
   "cell_type": "code",
   "execution_count": 1,
   "metadata": {},
   "outputs": [],
   "source": [
    "# importing the librarires\n",
    "import pandas as pd\n",
    "import markovify\n",
    "import re"
   ]
  },
  {
   "cell_type": "code",
   "execution_count": 2,
   "metadata": {},
   "outputs": [],
   "source": [
    "''' The data has been scraped from the website which has data published , title , Event \n",
    "\n",
    "https://www.ted.com/talks/quick-list\n",
    "\n",
    "'''\n",
    "ted_titles = pd.read_csv('../Markovify Project/Ted_Talks_Titles.csv')"
   ]
  },
  {
   "cell_type": "code",
   "execution_count": 3,
   "metadata": {},
   "outputs": [
    {
     "data": {
      "text/plain": [
       "Index(['Unnamed: 0', 'Title', 'Event'], dtype='object')"
      ]
     },
     "execution_count": 3,
     "metadata": {},
     "output_type": "execute_result"
    }
   ],
   "source": [
    "ted_titles.columns"
   ]
  },
  {
   "cell_type": "code",
   "execution_count": 4,
   "metadata": {},
   "outputs": [],
   "source": [
    "ted_titles.drop('Unnamed: 0' , axis=1 , inplace=True)"
   ]
  },
  {
   "cell_type": "code",
   "execution_count": 5,
   "metadata": {},
   "outputs": [],
   "source": [
    "titles_df = pd.DataFrame({'Title' : []})\n",
    "titles = []\n",
    "for title in ted_titles['Title']:\n",
    "    title = title.split(':')[1].strip()\n",
    "    titles.append(title)\n",
    "\n",
    "titles_df['Title'] = titles"
   ]
  },
  {
   "cell_type": "code",
   "execution_count": 6,
   "metadata": {
    "scrolled": true
   },
   "outputs": [
    {
     "data": {
      "text/plain": [
       "(6159, 1)"
      ]
     },
     "execution_count": 6,
     "metadata": {},
     "output_type": "execute_result"
    }
   ],
   "source": [
    "titles_df.shape"
   ]
  },
  {
   "cell_type": "markdown",
   "metadata": {},
   "source": [
    "# Ted Title Generator with Single Markovify Model"
   ]
  },
  {
   "cell_type": "code",
   "execution_count": 7,
   "metadata": {},
   "outputs": [],
   "source": [
    "# single_model \n",
    "ted_title_model = markovify.Text(titles_df.Title)"
   ]
  },
  {
   "cell_type": "code",
   "execution_count": 8,
   "metadata": {},
   "outputs": [
    {
     "name": "stdout",
     "output_type": "stream",
     "text": [
      "A philosophical quest for immortality\n",
      "Investments in the social sector\n",
      "The world's oldest diseases?\n",
      "This is how it taught me about womanhood\n",
      "The accident that changed the way we sit down\n"
     ]
    }
   ],
   "source": [
    "for i in range(5):\n",
    "    print(ted_title_model.make_short_sentence(max_chars=50))"
   ]
  },
  {
   "cell_type": "markdown",
   "metadata": {},
   "source": [
    "# Ted Title Generator with Combined Markovify Models"
   ]
  },
  {
   "cell_type": "code",
   "execution_count": 9,
   "metadata": {},
   "outputs": [],
   "source": [
    "title_model_1 = markovify.Text(titles_df.Title , state_size= 4)\n",
    "title_model_2 = markovify.Text(titles_df.Title , state_size=4)"
   ]
  },
  {
   "cell_type": "code",
   "execution_count": 10,
   "metadata": {},
   "outputs": [],
   "source": [
    "combined_title_model = markovify.combine([title_model_1 , title_model_2] , [1,1])"
   ]
  },
  {
   "cell_type": "code",
   "execution_count": 11,
   "metadata": {},
   "outputs": [
    {
     "name": "stdout",
     "output_type": "stream",
     "text": [
      "The amazing story of the man who broke my neck\n",
      "A third way to think about public health\n",
      "A new way to think about public health\n",
      "Why there's no such thing as not voting\n",
      "What birdspotting can teach us about brain tumors\n"
     ]
    }
   ],
   "source": [
    "for i in range(5):\n",
    "    print(combined_title_model.make_short_sentence(max_chars=50 , tries=100))"
   ]
  },
  {
   "cell_type": "code",
   "execution_count": null,
   "metadata": {},
   "outputs": [],
   "source": []
  }
 ],
 "metadata": {
  "kernelspec": {
   "display_name": "Python 3 (ipykernel)",
   "language": "python",
   "name": "python3"
  },
  "language_info": {
   "codemirror_mode": {
    "name": "ipython",
    "version": 3
   },
   "file_extension": ".py",
   "mimetype": "text/x-python",
   "name": "python",
   "nbconvert_exporter": "python",
   "pygments_lexer": "ipython3",
   "version": "3.9.18"
  }
 },
 "nbformat": 4,
 "nbformat_minor": 2
}
