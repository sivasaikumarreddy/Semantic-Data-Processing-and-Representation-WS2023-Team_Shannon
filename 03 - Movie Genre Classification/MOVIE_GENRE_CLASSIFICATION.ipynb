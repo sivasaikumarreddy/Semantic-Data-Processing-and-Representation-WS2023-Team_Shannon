{
 "cells": [
  {
   "cell_type": "code",
   "execution_count": 1,
   "id": "99105d49",
   "metadata": {},
   "outputs": [],
   "source": [
    "import numpy as np\n",
    "import pandas as pd\n",
    "import matplotlib.pyplot as plt\n",
    "import seaborn as sns\n",
    "\n",
    "from sklearn.model_selection import train_test_split\n",
    "from sklearn.feature_extraction.text import CountVectorizer\n",
    "from sklearn.feature_extraction.text import TfidfVectorizer\n",
    "from sklearn.metrics import accuracy_score\n",
    "from sklearn.naive_bayes import MultinomialNB\n",
    "from sklearn.svm import SVC\n",
    "from sklearn.linear_model import LogisticRegression\n",
    "from sklearn.ensemble import RandomForestClassifier\n",
    "from sklearn.preprocessing import LabelEncoder\n",
    "\n",
    "import nltk\n",
    "from nltk.stem import WordNetLemmatizer, PorterStemmer\n",
    "from nltk.corpus import stopwords\n",
    "from nltk.tokenize import word_tokenize , sent_tokenize\n",
    "import re\n",
    "\n",
    "\n",
    "import time\n",
    "import warnings\n",
    "warnings.filterwarnings(\"ignore\")"
   ]
  },
  {
   "cell_type": "code",
   "execution_count": 2,
   "id": "0464dff2",
   "metadata": {},
   "outputs": [],
   "source": [
    "original_movies = pd.read_csv(\"train_data.txt\", delimiter=\":::\", header = None )\n",
    "original_movies.drop(0,axis=1 , inplace= True)"
   ]
  },
  {
   "cell_type": "code",
   "execution_count": 3,
   "id": "3ea7e0ba",
   "metadata": {},
   "outputs": [],
   "source": [
    "original_movies.columns = [\"Title\", \"Genre\" , \"Description\"]"
   ]
  },
  {
   "cell_type": "code",
   "execution_count": 4,
   "id": "06c9f64f",
   "metadata": {},
   "outputs": [
    {
     "data": {
      "text/html": [
       "<div>\n",
       "<style scoped>\n",
       "    .dataframe tbody tr th:only-of-type {\n",
       "        vertical-align: middle;\n",
       "    }\n",
       "\n",
       "    .dataframe tbody tr th {\n",
       "        vertical-align: top;\n",
       "    }\n",
       "\n",
       "    .dataframe thead th {\n",
       "        text-align: right;\n",
       "    }\n",
       "</style>\n",
       "<table border=\"1\" class=\"dataframe\">\n",
       "  <thead>\n",
       "    <tr style=\"text-align: right;\">\n",
       "      <th></th>\n",
       "      <th>Title</th>\n",
       "      <th>Genre</th>\n",
       "      <th>Description</th>\n",
       "    </tr>\n",
       "  </thead>\n",
       "  <tbody>\n",
       "    <tr>\n",
       "      <th>0</th>\n",
       "      <td>Oscar et la dame rose (2009)</td>\n",
       "      <td>drama</td>\n",
       "      <td>Listening in to a conversation between his do...</td>\n",
       "    </tr>\n",
       "    <tr>\n",
       "      <th>1</th>\n",
       "      <td>Cupid (1997)</td>\n",
       "      <td>thriller</td>\n",
       "      <td>A brother and sister with a past incestuous r...</td>\n",
       "    </tr>\n",
       "    <tr>\n",
       "      <th>2</th>\n",
       "      <td>Young, Wild and Wonderful (1980)</td>\n",
       "      <td>adult</td>\n",
       "      <td>As the bus empties the students for their fie...</td>\n",
       "    </tr>\n",
       "    <tr>\n",
       "      <th>3</th>\n",
       "      <td>The Secret Sin (1915)</td>\n",
       "      <td>drama</td>\n",
       "      <td>To help their unemployed father make ends mee...</td>\n",
       "    </tr>\n",
       "    <tr>\n",
       "      <th>4</th>\n",
       "      <td>The Unrecovered (2007)</td>\n",
       "      <td>drama</td>\n",
       "      <td>The film's title refers not only to the un-re...</td>\n",
       "    </tr>\n",
       "  </tbody>\n",
       "</table>\n",
       "</div>"
      ],
      "text/plain": [
       "                                Title       Genre  \\\n",
       "0       Oscar et la dame rose (2009)       drama    \n",
       "1                       Cupid (1997)    thriller    \n",
       "2   Young, Wild and Wonderful (1980)       adult    \n",
       "3              The Secret Sin (1915)       drama    \n",
       "4             The Unrecovered (2007)       drama    \n",
       "\n",
       "                                         Description  \n",
       "0   Listening in to a conversation between his do...  \n",
       "1   A brother and sister with a past incestuous r...  \n",
       "2   As the bus empties the students for their fie...  \n",
       "3   To help their unemployed father make ends mee...  \n",
       "4   The film's title refers not only to the un-re...  "
      ]
     },
     "execution_count": 4,
     "metadata": {},
     "output_type": "execute_result"
    }
   ],
   "source": [
    "original_movies.head()"
   ]
  },
  {
   "cell_type": "code",
   "execution_count": 5,
   "id": "a75b489f",
   "metadata": {},
   "outputs": [],
   "source": [
    "# creating a new column for the years\n",
    "years = []\n",
    "for i in original_movies[\"Title\"]:\n",
    "    year = i.split(\"(\")[1].split(\")\")[0]\n",
    "    years.append(year)"
   ]
  },
  {
   "cell_type": "code",
   "execution_count": 6,
   "id": "46ced135",
   "metadata": {},
   "outputs": [],
   "source": [
    "original_movies[\"Year\"] = years"
   ]
  },
  {
   "cell_type": "markdown",
   "id": "ae5b8487",
   "metadata": {},
   "source": [
    "### Subset dataset to work on fewer samples"
   ]
  },
  {
   "cell_type": "code",
   "execution_count": 7,
   "id": "5dabdcbd",
   "metadata": {},
   "outputs": [
    {
     "data": {
      "text/html": [
       "<div>\n",
       "<style scoped>\n",
       "    .dataframe tbody tr th:only-of-type {\n",
       "        vertical-align: middle;\n",
       "    }\n",
       "\n",
       "    .dataframe tbody tr th {\n",
       "        vertical-align: top;\n",
       "    }\n",
       "\n",
       "    .dataframe thead th {\n",
       "        text-align: right;\n",
       "    }\n",
       "</style>\n",
       "<table border=\"1\" class=\"dataframe\">\n",
       "  <thead>\n",
       "    <tr style=\"text-align: right;\">\n",
       "      <th></th>\n",
       "      <th>Title</th>\n",
       "      <th>Genre</th>\n",
       "      <th>Description</th>\n",
       "      <th>Year</th>\n",
       "    </tr>\n",
       "  </thead>\n",
       "  <tbody>\n",
       "    <tr>\n",
       "      <th>0</th>\n",
       "      <td>Oscar et la dame rose (2009)</td>\n",
       "      <td>drama</td>\n",
       "      <td>Listening in to a conversation between his do...</td>\n",
       "      <td>2009</td>\n",
       "    </tr>\n",
       "    <tr>\n",
       "      <th>1</th>\n",
       "      <td>Cupid (1997)</td>\n",
       "      <td>thriller</td>\n",
       "      <td>A brother and sister with a past incestuous r...</td>\n",
       "      <td>1997</td>\n",
       "    </tr>\n",
       "    <tr>\n",
       "      <th>2</th>\n",
       "      <td>Young, Wild and Wonderful (1980)</td>\n",
       "      <td>adult</td>\n",
       "      <td>As the bus empties the students for their fie...</td>\n",
       "      <td>1980</td>\n",
       "    </tr>\n",
       "    <tr>\n",
       "      <th>3</th>\n",
       "      <td>The Secret Sin (1915)</td>\n",
       "      <td>drama</td>\n",
       "      <td>To help their unemployed father make ends mee...</td>\n",
       "      <td>1915</td>\n",
       "    </tr>\n",
       "    <tr>\n",
       "      <th>4</th>\n",
       "      <td>The Unrecovered (2007)</td>\n",
       "      <td>drama</td>\n",
       "      <td>The film's title refers not only to the un-re...</td>\n",
       "      <td>2007</td>\n",
       "    </tr>\n",
       "  </tbody>\n",
       "</table>\n",
       "</div>"
      ],
      "text/plain": [
       "                                Title       Genre  \\\n",
       "0       Oscar et la dame rose (2009)       drama    \n",
       "1                       Cupid (1997)    thriller    \n",
       "2   Young, Wild and Wonderful (1980)       adult    \n",
       "3              The Secret Sin (1915)       drama    \n",
       "4             The Unrecovered (2007)       drama    \n",
       "\n",
       "                                         Description  Year  \n",
       "0   Listening in to a conversation between his do...  2009  \n",
       "1   A brother and sister with a past incestuous r...  1997  \n",
       "2   As the bus empties the students for their fie...  1980  \n",
       "3   To help their unemployed father make ends mee...  1915  \n",
       "4   The film's title refers not only to the un-re...  2007  "
      ]
     },
     "execution_count": 7,
     "metadata": {},
     "output_type": "execute_result"
    }
   ],
   "source": [
    "movies = original_movies.iloc[:15000,:].copy()\n",
    "movies.head()"
   ]
  },
  {
   "cell_type": "code",
   "execution_count": 8,
   "id": "83e9f842",
   "metadata": {},
   "outputs": [
    {
     "name": "stdout",
     "output_type": "stream",
     "text": [
      "Original Movies : (54214, 4)\n",
      "sampled Movies : (15000, 4)\n"
     ]
    }
   ],
   "source": [
    "print(f\"Original Movies : {original_movies.shape}\")\n",
    "print(f\"sampled Movies : {movies.shape}\")"
   ]
  },
  {
   "cell_type": "markdown",
   "id": "2a9bc4f4",
   "metadata": {},
   "source": [
    "### Random Countvectorizer method without any preprocessing"
   ]
  },
  {
   "cell_type": "code",
   "execution_count": 9,
   "id": "c06d0b7d",
   "metadata": {},
   "outputs": [],
   "source": [
    "encoder = LabelEncoder()\n",
    "y = encoder.fit_transform(movies[\"Genre\"])"
   ]
  },
  {
   "cell_type": "code",
   "execution_count": 10,
   "id": "12a2d2e8",
   "metadata": {},
   "outputs": [],
   "source": [
    "cv = CountVectorizer()\n",
    "X = cv.fit_transform(movies[\"Description\"])\n"
   ]
  },
  {
   "cell_type": "code",
   "execution_count": 11,
   "id": "11b5f3e2",
   "metadata": {},
   "outputs": [],
   "source": [
    "X_train , X_test , y_train , y_test = train_test_split(X,y , test_size=0.3 , random_state=64)"
   ]
  },
  {
   "cell_type": "code",
   "execution_count": 12,
   "id": "1b4c1a78",
   "metadata": {},
   "outputs": [
    {
     "data": {
      "text/html": [
       "<style>#sk-container-id-1 {color: black;}#sk-container-id-1 pre{padding: 0;}#sk-container-id-1 div.sk-toggleable {background-color: white;}#sk-container-id-1 label.sk-toggleable__label {cursor: pointer;display: block;width: 100%;margin-bottom: 0;padding: 0.3em;box-sizing: border-box;text-align: center;}#sk-container-id-1 label.sk-toggleable__label-arrow:before {content: \"▸\";float: left;margin-right: 0.25em;color: #696969;}#sk-container-id-1 label.sk-toggleable__label-arrow:hover:before {color: black;}#sk-container-id-1 div.sk-estimator:hover label.sk-toggleable__label-arrow:before {color: black;}#sk-container-id-1 div.sk-toggleable__content {max-height: 0;max-width: 0;overflow: hidden;text-align: left;background-color: #f0f8ff;}#sk-container-id-1 div.sk-toggleable__content pre {margin: 0.2em;color: black;border-radius: 0.25em;background-color: #f0f8ff;}#sk-container-id-1 input.sk-toggleable__control:checked~div.sk-toggleable__content {max-height: 200px;max-width: 100%;overflow: auto;}#sk-container-id-1 input.sk-toggleable__control:checked~label.sk-toggleable__label-arrow:before {content: \"▾\";}#sk-container-id-1 div.sk-estimator input.sk-toggleable__control:checked~label.sk-toggleable__label {background-color: #d4ebff;}#sk-container-id-1 div.sk-label input.sk-toggleable__control:checked~label.sk-toggleable__label {background-color: #d4ebff;}#sk-container-id-1 input.sk-hidden--visually {border: 0;clip: rect(1px 1px 1px 1px);clip: rect(1px, 1px, 1px, 1px);height: 1px;margin: -1px;overflow: hidden;padding: 0;position: absolute;width: 1px;}#sk-container-id-1 div.sk-estimator {font-family: monospace;background-color: #f0f8ff;border: 1px dotted black;border-radius: 0.25em;box-sizing: border-box;margin-bottom: 0.5em;}#sk-container-id-1 div.sk-estimator:hover {background-color: #d4ebff;}#sk-container-id-1 div.sk-parallel-item::after {content: \"\";width: 100%;border-bottom: 1px solid gray;flex-grow: 1;}#sk-container-id-1 div.sk-label:hover label.sk-toggleable__label {background-color: #d4ebff;}#sk-container-id-1 div.sk-serial::before {content: \"\";position: absolute;border-left: 1px solid gray;box-sizing: border-box;top: 0;bottom: 0;left: 50%;z-index: 0;}#sk-container-id-1 div.sk-serial {display: flex;flex-direction: column;align-items: center;background-color: white;padding-right: 0.2em;padding-left: 0.2em;position: relative;}#sk-container-id-1 div.sk-item {position: relative;z-index: 1;}#sk-container-id-1 div.sk-parallel {display: flex;align-items: stretch;justify-content: center;background-color: white;position: relative;}#sk-container-id-1 div.sk-item::before, #sk-container-id-1 div.sk-parallel-item::before {content: \"\";position: absolute;border-left: 1px solid gray;box-sizing: border-box;top: 0;bottom: 0;left: 50%;z-index: -1;}#sk-container-id-1 div.sk-parallel-item {display: flex;flex-direction: column;z-index: 1;position: relative;background-color: white;}#sk-container-id-1 div.sk-parallel-item:first-child::after {align-self: flex-end;width: 50%;}#sk-container-id-1 div.sk-parallel-item:last-child::after {align-self: flex-start;width: 50%;}#sk-container-id-1 div.sk-parallel-item:only-child::after {width: 0;}#sk-container-id-1 div.sk-dashed-wrapped {border: 1px dashed gray;margin: 0 0.4em 0.5em 0.4em;box-sizing: border-box;padding-bottom: 0.4em;background-color: white;}#sk-container-id-1 div.sk-label label {font-family: monospace;font-weight: bold;display: inline-block;line-height: 1.2em;}#sk-container-id-1 div.sk-label-container {text-align: center;}#sk-container-id-1 div.sk-container {/* jupyter's `normalize.less` sets `[hidden] { display: none; }` but bootstrap.min.css set `[hidden] { display: none !important; }` so we also need the `!important` here to be able to override the default hidden behavior on the sphinx rendered scikit-learn.org. See: https://github.com/scikit-learn/scikit-learn/issues/21755 */display: inline-block !important;position: relative;}#sk-container-id-1 div.sk-text-repr-fallback {display: none;}</style><div id=\"sk-container-id-1\" class=\"sk-top-container\"><div class=\"sk-text-repr-fallback\"><pre>MultinomialNB(alpha=0.2)</pre><b>In a Jupyter environment, please rerun this cell to show the HTML representation or trust the notebook. <br />On GitHub, the HTML representation is unable to render, please try loading this page with nbviewer.org.</b></div><div class=\"sk-container\" hidden><div class=\"sk-item\"><div class=\"sk-estimator sk-toggleable\"><input class=\"sk-toggleable__control sk-hidden--visually\" id=\"sk-estimator-id-1\" type=\"checkbox\" checked><label for=\"sk-estimator-id-1\" class=\"sk-toggleable__label sk-toggleable__label-arrow\">MultinomialNB</label><div class=\"sk-toggleable__content\"><pre>MultinomialNB(alpha=0.2)</pre></div></div></div></div></div>"
      ],
      "text/plain": [
       "MultinomialNB(alpha=0.2)"
      ]
     },
     "execution_count": 12,
     "metadata": {},
     "output_type": "execute_result"
    }
   ],
   "source": [
    "NB_model = MultinomialNB(alpha=0.2)\n",
    "NB_model.fit(X_train , y_train)\n"
   ]
  },
  {
   "cell_type": "code",
   "execution_count": 13,
   "id": "79b04ba3",
   "metadata": {},
   "outputs": [],
   "source": [
    "y_preds = NB_model.predict(X_test)"
   ]
  },
  {
   "cell_type": "code",
   "execution_count": 14,
   "id": "9ca76958",
   "metadata": {},
   "outputs": [
    {
     "data": {
      "text/plain": [
       "0.52"
      ]
     },
     "execution_count": 14,
     "metadata": {},
     "output_type": "execute_result"
    }
   ],
   "source": [
    "accuracy_score(y_test , y_preds)"
   ]
  },
  {
   "cell_type": "code",
   "execution_count": 15,
   "id": "9015d062",
   "metadata": {},
   "outputs": [],
   "source": [
    "# checking the effect of alpha on predictions\n",
    "accuracies = []\n",
    "alphas = np.arange(0,2,0.1)\n",
    "\n",
    "for alpha in alphas:\n",
    "    NB_model = MultinomialNB(alpha=alpha)\n",
    "    NB_model.fit(X_train , y_train)\n",
    "    y_preds = NB_model.predict(X_test)\n",
    "    accuracies.append(accuracy_score(y_test , y_preds))"
   ]
  },
  {
   "cell_type": "code",
   "execution_count": 16,
   "id": "05f8f8d8",
   "metadata": {
    "scrolled": false
   },
   "outputs": [
    {
     "data": {
      "image/png": "[encoded data removed]",
      "text/plain": [
       "<Figure size 640x480 with 1 Axes>"
      ]
     },
     "metadata": {},
     "output_type": "display_data"
    }
   ],
   "source": [
    "plt.plot(alphas , accuracies, color =\"red\", marker = '+', linestyle =\"dashed\",)\n",
    "for i, txt in enumerate(accuracies):\n",
    "    plt.annotate(f'{txt:.2f}', (alphas[i], accuracies[i]), textcoords=\"offset points\", xytext=(0,5), ha='center')\n",
    "\n",
    "plt.show()"
   ]
  },
  {
   "cell_type": "markdown",
   "id": "e9e5800f",
   "metadata": {},
   "source": [
    "#### The best score for MultiNomialNB is achieving at the value Alpha=0.2 with around 56% accuracy."
   ]
  },
  {
   "cell_type": "markdown",
   "id": "56a92bfd",
   "metadata": {},
   "source": [
    "# Training the model on whole dataset now and testing the results\n",
    "\n"
   ]
  },
  {
   "cell_type": "code",
   "execution_count": 17,
   "id": "0557abdb",
   "metadata": {},
   "outputs": [
    {
     "data": {
      "text/plain": [
       "0.562311712265601"
      ]
     },
     "execution_count": 17,
     "metadata": {},
     "output_type": "execute_result"
    }
   ],
   "source": [
    "y = encoder.fit_transform(original_movies[\"Genre\"])\n",
    "X = cv.fit_transform(original_movies[\"Description\"])\n",
    "X_train , X_test , y_train , y_test = train_test_split(X,y , test_size=0.3 , random_state=64)\n",
    "\n",
    "NB_model = MultinomialNB(alpha=0.2)\n",
    "NB_model.fit(X_train , y_train)\n",
    "\n",
    "y_preds = NB_model.predict(X_test)\n",
    "\n",
    "accuracy_score(y_test , y_preds)"
   ]
  },
  {
   "cell_type": "code",
   "execution_count": 18,
   "id": "16a49be1",
   "metadata": {},
   "outputs": [
    {
     "data": {
      "text/plain": [
       "0.5693206271134338"
      ]
     },
     "execution_count": 18,
     "metadata": {},
     "output_type": "execute_result"
    }
   ],
   "source": [
    "y = encoder.fit_transform(original_movies[\"Genre\"])\n",
    "X = cv.fit_transform(original_movies[\"Description\"])\n",
    "X_train , X_test , y_train , y_test = train_test_split(X,y , test_size=0.3 , random_state=64)\n",
    "\n",
    "lr_model = LogisticRegression(max_iter=1000)\n",
    "lr_model.fit(X_train , y_train)\n",
    "\n",
    "y_preds = lr_model.predict(X_test)\n",
    "\n",
    "accuracy_score(y_test , y_preds)"
   ]
  },
  {
   "cell_type": "markdown",
   "id": "4c993276",
   "metadata": {},
   "source": [
    "# Trying the same above models with preprocessing techniques\n",
    "\n",
    "\n",
    "1) Removal of stop words\n",
    "2) Stemming or Lemmatization\n",
    "3) TF-iDF"
   ]
  },
  {
   "cell_type": "code",
   "execution_count": 19,
   "id": "cb43b9c0",
   "metadata": {},
   "outputs": [],
   "source": [
    "# Defining the Lemmatizer and the Stemming Objects\n",
    "lemmatizer = WordNetLemmatizer()\n",
    "stemmer = PorterStemmer()"
   ]
  },
  {
   "cell_type": "code",
   "execution_count": 20,
   "id": "6eb5a537",
   "metadata": {},
   "outputs": [],
   "source": [
    "original_new_descriptions = []\n",
    "\n",
    "for i in original_movies[\"Description\"]:\n",
    "    #print(i)\n",
    "    # remove words other than Alphabets\n",
    "    description = re.sub('[^a-zA-z]',\" \", i)\n",
    "    description = description.lower()\n",
    "    description = description.split()\n",
    "    description = [stemmer.stem(word) for word in description if not word in stopwords.words(\"english\")]\n",
    "    #print(description)\n",
    "    description = \" \".join(description)\n",
    "    original_new_descriptions.append(description)"
   ]
  },
  {
   "cell_type": "code",
   "execution_count": 21,
   "id": "c8124905",
   "metadata": {},
   "outputs": [],
   "source": [
    "tfidf = TfidfVectorizer(max_features=7000)"
   ]
  },
  {
   "cell_type": "code",
   "execution_count": 22,
   "id": "7ddb7289",
   "metadata": {},
   "outputs": [],
   "source": [
    "X = tfidf.fit_transform(original_new_descriptions)"
   ]
  },
  {
   "cell_type": "code",
   "execution_count": 23,
   "id": "515cc563",
   "metadata": {},
   "outputs": [],
   "source": [
    "X_train , X_test , y_train , y_test = train_test_split(X, y , test_size=0.3 , random_state=64)"
   ]
  },
  {
   "cell_type": "code",
   "execution_count": 24,
   "id": "62282fb4",
   "metadata": {},
   "outputs": [
    {
     "data": {
      "text/html": [
       "<style>#sk-container-id-2 {color: black;}#sk-container-id-2 pre{padding: 0;}#sk-container-id-2 div.sk-toggleable {background-color: white;}#sk-container-id-2 label.sk-toggleable__label {cursor: pointer;display: block;width: 100%;margin-bottom: 0;padding: 0.3em;box-sizing: border-box;text-align: center;}#sk-container-id-2 label.sk-toggleable__label-arrow:before {content: \"▸\";float: left;margin-right: 0.25em;color: #696969;}#sk-container-id-2 label.sk-toggleable__label-arrow:hover:before {color: black;}#sk-container-id-2 div.sk-estimator:hover label.sk-toggleable__label-arrow:before {color: black;}#sk-container-id-2 div.sk-toggleable__content {max-height: 0;max-width: 0;overflow: hidden;text-align: left;background-color: #f0f8ff;}#sk-container-id-2 div.sk-toggleable__content pre {margin: 0.2em;color: black;border-radius: 0.25em;background-color: #f0f8ff;}#sk-container-id-2 input.sk-toggleable__control:checked~div.sk-toggleable__content {max-height: 200px;max-width: 100%;overflow: auto;}#sk-container-id-2 input.sk-toggleable__control:checked~label.sk-toggleable__label-arrow:before {content: \"▾\";}#sk-container-id-2 div.sk-estimator input.sk-toggleable__control:checked~label.sk-toggleable__label {background-color: #d4ebff;}#sk-container-id-2 div.sk-label input.sk-toggleable__control:checked~label.sk-toggleable__label {background-color: #d4ebff;}#sk-container-id-2 input.sk-hidden--visually {border: 0;clip: rect(1px 1px 1px 1px);clip: rect(1px, 1px, 1px, 1px);height: 1px;margin: -1px;overflow: hidden;padding: 0;position: absolute;width: 1px;}#sk-container-id-2 div.sk-estimator {font-family: monospace;background-color: #f0f8ff;border: 1px dotted black;border-radius: 0.25em;box-sizing: border-box;margin-bottom: 0.5em;}#sk-container-id-2 div.sk-estimator:hover {background-color: #d4ebff;}#sk-container-id-2 div.sk-parallel-item::after {content: \"\";width: 100%;border-bottom: 1px solid gray;flex-grow: 1;}#sk-container-id-2 div.sk-label:hover label.sk-toggleable__label {background-color: #d4ebff;}#sk-container-id-2 div.sk-serial::before {content: \"\";position: absolute;border-left: 1px solid gray;box-sizing: border-box;top: 0;bottom: 0;left: 50%;z-index: 0;}#sk-container-id-2 div.sk-serial {display: flex;flex-direction: column;align-items: center;background-color: white;padding-right: 0.2em;padding-left: 0.2em;position: relative;}#sk-container-id-2 div.sk-item {position: relative;z-index: 1;}#sk-container-id-2 div.sk-parallel {display: flex;align-items: stretch;justify-content: center;background-color: white;position: relative;}#sk-container-id-2 div.sk-item::before, #sk-container-id-2 div.sk-parallel-item::before {content: \"\";position: absolute;border-left: 1px solid gray;box-sizing: border-box;top: 0;bottom: 0;left: 50%;z-index: -1;}#sk-container-id-2 div.sk-parallel-item {display: flex;flex-direction: column;z-index: 1;position: relative;background-color: white;}#sk-container-id-2 div.sk-parallel-item:first-child::after {align-self: flex-end;width: 50%;}#sk-container-id-2 div.sk-parallel-item:last-child::after {align-self: flex-start;width: 50%;}#sk-container-id-2 div.sk-parallel-item:only-child::after {width: 0;}#sk-container-id-2 div.sk-dashed-wrapped {border: 1px dashed gray;margin: 0 0.4em 0.5em 0.4em;box-sizing: border-box;padding-bottom: 0.4em;background-color: white;}#sk-container-id-2 div.sk-label label {font-family: monospace;font-weight: bold;display: inline-block;line-height: 1.2em;}#sk-container-id-2 div.sk-label-container {text-align: center;}#sk-container-id-2 div.sk-container {/* jupyter's `normalize.less` sets `[hidden] { display: none; }` but bootstrap.min.css set `[hidden] { display: none !important; }` so we also need the `!important` here to be able to override the default hidden behavior on the sphinx rendered scikit-learn.org. See: https://github.com/scikit-learn/scikit-learn/issues/21755 */display: inline-block !important;position: relative;}#sk-container-id-2 div.sk-text-repr-fallback {display: none;}</style><div id=\"sk-container-id-2\" class=\"sk-top-container\"><div class=\"sk-text-repr-fallback\"><pre>MultinomialNB(alpha=0.1)</pre><b>In a Jupyter environment, please rerun this cell to show the HTML representation or trust the notebook. <br />On GitHub, the HTML representation is unable to render, please try loading this page with nbviewer.org.</b></div><div class=\"sk-container\" hidden><div class=\"sk-item\"><div class=\"sk-estimator sk-toggleable\"><input class=\"sk-toggleable__control sk-hidden--visually\" id=\"sk-estimator-id-2\" type=\"checkbox\" checked><label for=\"sk-estimator-id-2\" class=\"sk-toggleable__label sk-toggleable__label-arrow\">MultinomialNB</label><div class=\"sk-toggleable__content\"><pre>MultinomialNB(alpha=0.1)</pre></div></div></div></div></div>"
      ],
      "text/plain": [
       "MultinomialNB(alpha=0.1)"
      ]
     },
     "execution_count": 24,
     "metadata": {},
     "output_type": "execute_result"
    }
   ],
   "source": [
    "NB_tf_model = MultinomialNB(alpha =0.1)\n",
    "NB_tf_model.fit(X_train , y_train)"
   ]
  },
  {
   "cell_type": "code",
   "execution_count": 25,
   "id": "f9d8cbbd",
   "metadata": {},
   "outputs": [],
   "source": [
    "y_preds = NB_tf_model.predict(X_test)"
   ]
  },
  {
   "cell_type": "code",
   "execution_count": 26,
   "id": "ac2fb72b",
   "metadata": {},
   "outputs": [
    {
     "data": {
      "text/plain": [
       "0.5500153704272979"
      ]
     },
     "execution_count": 26,
     "metadata": {},
     "output_type": "execute_result"
    }
   ],
   "source": [
    "accuracy_score(y_test , y_preds)"
   ]
  },
  {
   "cell_type": "code",
   "execution_count": 27,
   "id": "1fc82804",
   "metadata": {},
   "outputs": [
    {
     "name": "stdout",
     "output_type": "stream",
     "text": [
      "The accuracy score for alpha=0.1 is : 55.0\n",
      "The accuracy score for alpha=0.2 is : 54.56\n",
      "The accuracy score for alpha=0.30000000000000004 is : 54.13\n",
      "The accuracy score for alpha=0.4 is : 53.7\n",
      "The accuracy score for alpha=0.5 is : 53.24\n",
      "The accuracy score for alpha=0.6 is : 52.79\n",
      "The accuracy score for alpha=0.7000000000000001 is : 52.39\n",
      "The accuracy score for alpha=0.8 is : 51.94\n",
      "The accuracy score for alpha=0.9 is : 51.56\n",
      "The best accuracy is 55.0 with alpha=0.1\n"
     ]
    }
   ],
   "source": [
    "best_accuracy = 0.0\n",
    "alpha_val = 0.0\n",
    "for i in np.arange(0.1,1,0.1):\n",
    "    temp_classifier = MultinomialNB(alpha=i)\n",
    "    temp_classifier.fit(X_train , y_train)\n",
    "    temp_preds = temp_classifier.predict(X_test)\n",
    "    accuracy = accuracy_score(y_test , temp_preds)\n",
    "    print(f\"The accuracy score for alpha={i} is : {round(accuracy*100,2)}\")\n",
    "    if accuracy > best_accuracy:\n",
    "        best_accuracy = accuracy\n",
    "        alpha_val = i\n",
    "\n",
    "print(f\"The best accuracy is {round(best_accuracy*100,2)} with alpha={alpha_val}\")"
   ]
  },
  {
   "cell_type": "code",
   "execution_count": 28,
   "id": "915744f5",
   "metadata": {},
   "outputs": [
    {
     "data": {
      "text/html": [
       "<style>#sk-container-id-3 {color: black;}#sk-container-id-3 pre{padding: 0;}#sk-container-id-3 div.sk-toggleable {background-color: white;}#sk-container-id-3 label.sk-toggleable__label {cursor: pointer;display: block;width: 100%;margin-bottom: 0;padding: 0.3em;box-sizing: border-box;text-align: center;}#sk-container-id-3 label.sk-toggleable__label-arrow:before {content: \"▸\";float: left;margin-right: 0.25em;color: #696969;}#sk-container-id-3 label.sk-toggleable__label-arrow:hover:before {color: black;}#sk-container-id-3 div.sk-estimator:hover label.sk-toggleable__label-arrow:before {color: black;}#sk-container-id-3 div.sk-toggleable__content {max-height: 0;max-width: 0;overflow: hidden;text-align: left;background-color: #f0f8ff;}#sk-container-id-3 div.sk-toggleable__content pre {margin: 0.2em;color: black;border-radius: 0.25em;background-color: #f0f8ff;}#sk-container-id-3 input.sk-toggleable__control:checked~div.sk-toggleable__content {max-height: 200px;max-width: 100%;overflow: auto;}#sk-container-id-3 input.sk-toggleable__control:checked~label.sk-toggleable__label-arrow:before {content: \"▾\";}#sk-container-id-3 div.sk-estimator input.sk-toggleable__control:checked~label.sk-toggleable__label {background-color: #d4ebff;}#sk-container-id-3 div.sk-label input.sk-toggleable__control:checked~label.sk-toggleable__label {background-color: #d4ebff;}#sk-container-id-3 input.sk-hidden--visually {border: 0;clip: rect(1px 1px 1px 1px);clip: rect(1px, 1px, 1px, 1px);height: 1px;margin: -1px;overflow: hidden;padding: 0;position: absolute;width: 1px;}#sk-container-id-3 div.sk-estimator {font-family: monospace;background-color: #f0f8ff;border: 1px dotted black;border-radius: 0.25em;box-sizing: border-box;margin-bottom: 0.5em;}#sk-container-id-3 div.sk-estimator:hover {background-color: #d4ebff;}#sk-container-id-3 div.sk-parallel-item::after {content: \"\";width: 100%;border-bottom: 1px solid gray;flex-grow: 1;}#sk-container-id-3 div.sk-label:hover label.sk-toggleable__label {background-color: #d4ebff;}#sk-container-id-3 div.sk-serial::before {content: \"\";position: absolute;border-left: 1px solid gray;box-sizing: border-box;top: 0;bottom: 0;left: 50%;z-index: 0;}#sk-container-id-3 div.sk-serial {display: flex;flex-direction: column;align-items: center;background-color: white;padding-right: 0.2em;padding-left: 0.2em;position: relative;}#sk-container-id-3 div.sk-item {position: relative;z-index: 1;}#sk-container-id-3 div.sk-parallel {display: flex;align-items: stretch;justify-content: center;background-color: white;position: relative;}#sk-container-id-3 div.sk-item::before, #sk-container-id-3 div.sk-parallel-item::before {content: \"\";position: absolute;border-left: 1px solid gray;box-sizing: border-box;top: 0;bottom: 0;left: 50%;z-index: -1;}#sk-container-id-3 div.sk-parallel-item {display: flex;flex-direction: column;z-index: 1;position: relative;background-color: white;}#sk-container-id-3 div.sk-parallel-item:first-child::after {align-self: flex-end;width: 50%;}#sk-container-id-3 div.sk-parallel-item:last-child::after {align-self: flex-start;width: 50%;}#sk-container-id-3 div.sk-parallel-item:only-child::after {width: 0;}#sk-container-id-3 div.sk-dashed-wrapped {border: 1px dashed gray;margin: 0 0.4em 0.5em 0.4em;box-sizing: border-box;padding-bottom: 0.4em;background-color: white;}#sk-container-id-3 div.sk-label label {font-family: monospace;font-weight: bold;display: inline-block;line-height: 1.2em;}#sk-container-id-3 div.sk-label-container {text-align: center;}#sk-container-id-3 div.sk-container {/* jupyter's `normalize.less` sets `[hidden] { display: none; }` but bootstrap.min.css set `[hidden] { display: none !important; }` so we also need the `!important` here to be able to override the default hidden behavior on the sphinx rendered scikit-learn.org. See: https://github.com/scikit-learn/scikit-learn/issues/21755 */display: inline-block !important;position: relative;}#sk-container-id-3 div.sk-text-repr-fallback {display: none;}</style><div id=\"sk-container-id-3\" class=\"sk-top-container\"><div class=\"sk-text-repr-fallback\"><pre>LogisticRegression(max_iter=200)</pre><b>In a Jupyter environment, please rerun this cell to show the HTML representation or trust the notebook. <br />On GitHub, the HTML representation is unable to render, please try loading this page with nbviewer.org.</b></div><div class=\"sk-container\" hidden><div class=\"sk-item\"><div class=\"sk-estimator sk-toggleable\"><input class=\"sk-toggleable__control sk-hidden--visually\" id=\"sk-estimator-id-3\" type=\"checkbox\" checked><label for=\"sk-estimator-id-3\" class=\"sk-toggleable__label sk-toggleable__label-arrow\">LogisticRegression</label><div class=\"sk-toggleable__content\"><pre>LogisticRegression(max_iter=200)</pre></div></div></div></div></div>"
      ],
      "text/plain": [
       "LogisticRegression(max_iter=200)"
      ]
     },
     "execution_count": 28,
     "metadata": {},
     "output_type": "execute_result"
    }
   ],
   "source": [
    "lr_model = LogisticRegression(max_iter=200)\n",
    "lr_model.fit(X_train , y_train)"
   ]
  },
  {
   "cell_type": "code",
   "execution_count": 29,
   "id": "b2f6c6be",
   "metadata": {},
   "outputs": [
    {
     "data": {
      "text/plain": [
       "0.5846910544113126"
      ]
     },
     "execution_count": 29,
     "metadata": {},
     "output_type": "execute_result"
    }
   ],
   "source": [
    "lr_preds = lr_model.predict(X_test)\n",
    "accuracy_score(y_test , lr_preds)"
   ]
  },
  {
   "cell_type": "markdown",
   "id": "fad258e3",
   "metadata": {},
   "source": [
    "##### We have created the stemmed dataframe and the lemmatized dataframe as doing the stemming and lemmatizing taking a lof of time to our dataset . Hence saved those two new_descriptions into a new dataframes to be used directly.\n",
    "\n",
    "Two datasets used below are \n",
    "1) Stemmed_train_data.csv - Contains the Genres and the corresponding Stemmed Descriptions.\n",
    "2) Lemmatized_train_data.csv - Contains the Genres and the corresponding Lemmatized Descriptions."
   ]
  },
  {
   "cell_type": "markdown",
   "id": "8882c5ae",
   "metadata": {},
   "source": [
    "### MultionomialNB with Stemmed and Lemmatized descriptions"
   ]
  },
  {
   "cell_type": "code",
   "execution_count": 30,
   "id": "df6a12cb",
   "metadata": {},
   "outputs": [
    {
     "data": {
      "text/plain": [
       "0.5500153704272979"
      ]
     },
     "execution_count": 30,
     "metadata": {},
     "output_type": "execute_result"
    }
   ],
   "source": [
    "stemmed_data = pd.read_csv(\"Stemmed_train_data.csv\")\n",
    "y = stemmed_data[\"Genres\"]\n",
    "new_descriptions = stemmed_data[\"Stemmed_Descriptions\"]\n",
    "tfidf = TfidfVectorizer(max_features=7000)\n",
    "X = tfidf.fit_transform(new_descriptions)\n",
    "X_train , X_test , y_train , y_test = train_test_split(X, y , test_size=0.3 , random_state=64)\n",
    "NB_tf_model = MultinomialNB(alpha =0.1)\n",
    "NB_tf_model.fit(X_train , y_train)\n",
    "y_preds = NB_tf_model.predict(X_test)\n",
    "accuracy_score(y_test , y_preds)\n"
   ]
  },
  {
   "cell_type": "code",
   "execution_count": 31,
   "id": "ecf1f07a",
   "metadata": {},
   "outputs": [
    {
     "data": {
      "text/plain": [
       "0.5514294497387028"
      ]
     },
     "execution_count": 31,
     "metadata": {},
     "output_type": "execute_result"
    }
   ],
   "source": [
    "lemmatized_data = pd.read_csv(\"Lemmatized_train_data.csv\")\n",
    "y = lemmatized_data[\"Genres\"]\n",
    "new_descriptions = lemmatized_data[\"Lemmatized_descriptions\"]\n",
    "tfidf = TfidfVectorizer(max_features=6000)\n",
    "X = tfidf.fit_transform(new_descriptions)\n",
    "X_train , X_test , y_train , y_test = train_test_split(X, y , test_size=0.3 , random_state=64)\n",
    "NB_tf_model = MultinomialNB(alpha =0.1)\n",
    "NB_tf_model.fit(X_train , y_train)\n",
    "y_preds = NB_tf_model.predict(X_test)\n",
    "accuracy_score(y_test , y_preds)"
   ]
  },
  {
   "cell_type": "markdown",
   "id": "90e47970",
   "metadata": {},
   "source": [
    "### Logistic Regression with Stemmed and Lemmatized descriptions"
   ]
  },
  {
   "cell_type": "code",
   "execution_count": 32,
   "id": "56e2cf0c",
   "metadata": {},
   "outputs": [
    {
     "data": {
      "text/plain": [
       "0.5869043959422072"
      ]
     },
     "execution_count": 32,
     "metadata": {},
     "output_type": "execute_result"
    }
   ],
   "source": [
    "lemmatized_data = pd.read_csv(\"Stemmed_train_data.csv\")\n",
    "\n",
    "y = lemmatized_data[\"Genres\"]\n",
    "new_descriptions = lemmatized_data[\"Stemmed_Descriptions\"]\n",
    "\n",
    "tfidf = TfidfVectorizer(max_features=6000)\n",
    "X = tfidf.fit_transform(new_descriptions)\n",
    "\n",
    "\n",
    "X_train , X_test , y_train , y_test = train_test_split(X, y , test_size=0.3 , random_state=64)\n",
    "\n",
    "lr_model = LogisticRegression(max_iter=2000)\n",
    "\n",
    "lr_model.fit(X_train , y_train)\n",
    "\n",
    "y_preds = lr_model.predict(X_test)\n",
    "\n",
    "accuracy_score(y_test , y_preds)"
   ]
  },
  {
   "cell_type": "code",
   "execution_count": 33,
   "id": "b1d60286",
   "metadata": {},
   "outputs": [
    {
     "data": {
      "text/plain": [
       "0.5838303104826315"
      ]
     },
     "execution_count": 33,
     "metadata": {},
     "output_type": "execute_result"
    }
   ],
   "source": [
    "lemmatized_data = pd.read_csv(\"Lemmatized_train_data.csv\")\n",
    "\n",
    "y = lemmatized_data[\"Genres\"]\n",
    "new_descriptions = lemmatized_data[\"Lemmatized_descriptions\"]\n",
    "\n",
    "tfidf = TfidfVectorizer(max_features=6000)\n",
    "\n",
    "X = tfidf.fit_transform(new_descriptions)\n",
    "\n",
    "X_train , X_test , y_train , y_test = train_test_split(X, y , test_size=0.3 , random_state=64)\n",
    "\n",
    "lr_model = LogisticRegression(max_iter=2000)\n",
    "\n",
    "lr_model.fit(X_train , y_train)\n",
    "\n",
    "y_preds = lr_model.predict(X_test)\n",
    "\n",
    "accuracy_score(y_test , y_preds)"
   ]
  },
  {
   "cell_type": "code",
   "execution_count": 34,
   "id": "4fbe4e20",
   "metadata": {},
   "outputs": [
    {
     "data": {
      "text/plain": [
       "0.5835229019366739"
      ]
     },
     "execution_count": 34,
     "metadata": {},
     "output_type": "execute_result"
    }
   ],
   "source": [
    "# Load the lemmatized data\n",
    "lemmatized_data = pd.read_csv(\"Lemmatized_train_data.csv\")\n",
    "\n",
    "# Separate features and target variable\n",
    "y = lemmatized_data[\"Genres\"]\n",
    "new_descriptions = lemmatized_data[\"Lemmatized_descriptions\"]\n",
    "\n",
    "# Split the data into training and testing sets\n",
    "X_train, X_test, y_train, y_test = train_test_split(new_descriptions, y, test_size=0.3, random_state=64)\n",
    "\n",
    "# Tfidf Vectorization\n",
    "tfidf = TfidfVectorizer(max_features=6000)\n",
    "X_train_tfidf = tfidf.fit_transform(X_train)\n",
    "X_test_tfidf = tfidf.transform(X_test)\n",
    "\n",
    "# Logistic Regression\n",
    "lr_model = LogisticRegression(max_iter=1000)\n",
    "\n",
    "lr_model = LogisticRegression(max_iter=1500 , C=1 , solver='lbfgs')\n",
    "lr_model.fit(X_train_tfidf , y_train)\n",
    "y_preds_best = lr_model.predict(X_test_tfidf)\n",
    "accuracy_score(y_test, y_preds_best)"
   ]
  },
  {
   "cell_type": "markdown",
   "id": "7585b707",
   "metadata": {},
   "source": [
    "# Neural Networks Model for Genre Classification"
   ]
  },
  {
   "cell_type": "code",
   "execution_count": 35,
   "id": "93af87d2",
   "metadata": {},
   "outputs": [
    {
     "name": "stdout",
     "output_type": "stream",
     "text": [
      "Epoch 1/20\n",
      "62/62 [==============================] - 14s 211ms/step - loss: 3.1026 - accuracy: 0.2524 - val_loss: 2.7300 - val_accuracy: 0.2385\n",
      "Epoch 2/20\n",
      "62/62 [==============================] - 13s 205ms/step - loss: 2.4992 - accuracy: 0.2792 - val_loss: 2.2452 - val_accuracy: 0.4336\n",
      "Epoch 3/20\n",
      "62/62 [==============================] - 13s 204ms/step - loss: 2.2487 - accuracy: 0.3699 - val_loss: 2.0668 - val_accuracy: 0.4394\n",
      "Epoch 4/20\n",
      "62/62 [==============================] - 13s 204ms/step - loss: 2.0576 - accuracy: 0.4332 - val_loss: 1.9421 - val_accuracy: 0.4427\n",
      "Epoch 5/20\n",
      "62/62 [==============================] - 13s 205ms/step - loss: 1.9185 - accuracy: 0.4630 - val_loss: 1.8607 - val_accuracy: 0.4637\n",
      "Epoch 6/20\n",
      "62/62 [==============================] - 13s 207ms/step - loss: 1.7883 - accuracy: 0.4966 - val_loss: 1.7908 - val_accuracy: 0.5011\n",
      "Epoch 7/20\n",
      "62/62 [==============================] - 13s 206ms/step - loss: 1.6630 - accuracy: 0.5419 - val_loss: 1.7293 - val_accuracy: 0.5276\n",
      "Epoch 8/20\n",
      "62/62 [==============================] - 13s 203ms/step - loss: 1.5409 - accuracy: 0.5847 - val_loss: 1.6808 - val_accuracy: 0.5429\n",
      "Epoch 9/20\n",
      "62/62 [==============================] - 13s 201ms/step - loss: 1.4191 - accuracy: 0.6199 - val_loss: 1.6439 - val_accuracy: 0.5531\n",
      "Epoch 10/20\n",
      "62/62 [==============================] - 13s 205ms/step - loss: 1.3096 - accuracy: 0.6530 - val_loss: 1.6209 - val_accuracy: 0.5566\n",
      "Epoch 11/20\n",
      "62/62 [==============================] - 13s 208ms/step - loss: 1.2072 - accuracy: 0.6774 - val_loss: 1.6125 - val_accuracy: 0.5585\n",
      "Epoch 12/20\n",
      "62/62 [==============================] - 13s 203ms/step - loss: 1.1142 - accuracy: 0.7004 - val_loss: 1.6165 - val_accuracy: 0.5606\n",
      "Epoch 13/20\n",
      "62/62 [==============================] - 12s 200ms/step - loss: 1.0314 - accuracy: 0.7215 - val_loss: 1.6317 - val_accuracy: 0.5597\n",
      "Epoch 14/20\n",
      "62/62 [==============================] - 13s 207ms/step - loss: 0.9519 - accuracy: 0.7414 - val_loss: 1.6616 - val_accuracy: 0.5577\n",
      "Epoch 15/20\n",
      "62/62 [==============================] - 13s 203ms/step - loss: 0.8843 - accuracy: 0.7602 - val_loss: 1.6944 - val_accuracy: 0.5549\n",
      "Epoch 16/20\n",
      "62/62 [==============================] - 12s 199ms/step - loss: 0.8199 - accuracy: 0.7781 - val_loss: 1.7404 - val_accuracy: 0.5497\n",
      "Epoch 17/20\n",
      "62/62 [==============================] - 13s 202ms/step - loss: 0.7628 - accuracy: 0.7917 - val_loss: 1.7845 - val_accuracy: 0.5467\n",
      "Epoch 18/20\n",
      "62/62 [==============================] - 13s 201ms/step - loss: 0.7079 - accuracy: 0.8078 - val_loss: 1.8402 - val_accuracy: 0.5415\n",
      "Epoch 19/20\n",
      "62/62 [==============================] - 13s 201ms/step - loss: 0.6579 - accuracy: 0.8206 - val_loss: 1.9152 - val_accuracy: 0.5414\n",
      "Epoch 20/20\n",
      "62/62 [==============================] - 13s 211ms/step - loss: 0.6123 - accuracy: 0.8348 - val_loss: 1.9765 - val_accuracy: 0.5354\n"
     ]
    }
   ],
   "source": [
    "import pandas as pd\n",
    "from sklearn.preprocessing import LabelEncoder\n",
    "from sklearn.model_selection import train_test_split\n",
    "from sklearn.feature_extraction.text import TfidfVectorizer\n",
    "from keras.models import Sequential\n",
    "from keras.layers import Dense, Softmax, Dropout\n",
    "from scipy.sparse import coo_matrix, csr_matrix\n",
    "from keras.optimizers import RMSprop\n",
    "\n",
    "# Read the data\n",
    "original_movies = pd.read_csv(\"train_data.txt\", delimiter=\":::\", header=None)\n",
    "original_movies.drop(0, axis=1, inplace=True)\n",
    "original_movies.columns = [\"Title\", \"Genre\", \"Description\"]\n",
    "\n",
    "# Encode labels\n",
    "encoder = LabelEncoder()\n",
    "original_movies['label'] = encoder.fit_transform(original_movies['Genre'].values)\n",
    "\n",
    "# Get the number of unique labels\n",
    "num_unique_labels = original_movies['Genre'].nunique()\n",
    "\n",
    "# Split data into train and test sets\n",
    "x_train, x_test, y_train, y_test = train_test_split(original_movies['Description'].values,\n",
    "                                                    original_movies['label'].values,\n",
    "                                                    test_size=0.2,\n",
    "                                                    random_state=0)\n",
    "\n",
    "# Vectorize text data\n",
    "vectorizer = TfidfVectorizer(stop_words='english', lowercase=True)\n",
    "features = vectorizer.fit_transform(x_train)\n",
    "features_test = vectorizer.transform(x_test)\n",
    "\n",
    "# Reorder sparse matrix indices\n",
    "def sort_csr(m):\n",
    "    coo = m.tocoo()\n",
    "    sorted_coo = coo_matrix((coo.data, (coo.row, coo.col)), shape=m.shape).tocsr()\n",
    "    return sorted_coo\n",
    "\n",
    "features = sort_csr(features)\n",
    "features_test = sort_csr(features_test)\n",
    "\n",
    "#model architecture\n",
    "model = Sequential()\n",
    "model.add(Dense(512, input_shape=(features.shape[1],), activation='relu'))\n",
    "model.add(Dense(256, activation='relu'))\n",
    "model.add(Dense(128, activation='relu'))\n",
    "model.add(Dropout(0.5))\n",
    "model.add(Dense(num_unique_labels, activation='softmax'))\n",
    "\n",
    "# Compile the model\n",
    "model.compile(optimizer=RMSprop(lr=0.0001),\n",
    "              loss='sparse_categorical_crossentropy',\n",
    "              metrics=['accuracy'])\n",
    "\n",
    "# Train the model\n",
    "history = model.fit(features, y_train, validation_data=(features_test, y_test), epochs=20, batch_size=700)\n",
    "\n"
   ]
  },
  {
   "cell_type": "code",
   "execution_count": 36,
   "id": "9122ab9b",
   "metadata": {},
   "outputs": [
    {
     "name": "stdout",
     "output_type": "stream",
     "text": [
      "339/339 [==============================] - 2s 4ms/step - loss: 1.9765 - accuracy: 0.5354\n",
      "Final Accuracy on Test Data: 0.5353684425354004\n"
     ]
    }
   ],
   "source": [
    "# Evaluate the model on test data\n",
    "_, test_accuracy = model.evaluate(features_test, y_test)\n",
    "print(\"Final Accuracy on Test Data:\", test_accuracy)"
   ]
  },
  {
   "cell_type": "markdown",
   "id": "b5eaad84",
   "metadata": {},
   "source": [
    "# Conclusion\n",
    "\n",
    "1) Tried just with the Countvectorizer along with MultinomialNB and we got around 56.23% accuracy on validation set , Logistic Regression with 56.93% accuracy.\n",
    "2) Tried Removing stopwords , stemmed and lemmatized the descriptions to try them on the above two models namely NB , LogisticRegression\n",
    "    - Stemmed Descriptions\n",
    "        1) MultiNomialNB - **55.00**\n",
    "        2) Logistic Regression - **55.14**\n",
    "    - Lemmatized Decsriptions -\n",
    "        1) MultiNomialNB - **_58.69_**\n",
    "        2) Logistic Regression - **58.38**\n",
    "       \n",
    "3) With Neural Networks architecture - **53** accuracy"
   ]
  }
 ],
 "metadata": {
  "kernelspec": {
   "display_name": "Python 3 (ipykernel)",
   "language": "python",
   "name": "python3"
  },
  "language_info": {
   "codemirror_mode": {
    "name": "ipython",
    "version": 3
   },
   "file_extension": ".py",
   "mimetype": "text/x-python",
   "name": "python",
   "nbconvert_exporter": "python",
   "pygments_lexer": "ipython3",
   "version": "3.9.18"
  }
 },
 "nbformat": 4,
 "nbformat_minor": 5
}
